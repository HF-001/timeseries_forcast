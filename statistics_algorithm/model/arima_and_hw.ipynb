{
 "cells": [
  {
   "cell_type": "code",
   "execution_count": 1,
   "metadata": {},
   "outputs": [],
   "source": [
    "import numpy as np\n",
    "import pandas as pd\n",
    "\n",
    "from statsmodels.api import tsa\n",
    "from statsmodels.tsa.arima_model import ARIMA\n",
    "from statsmodels.tsa.holtwinters import ExponentialSmoothing, SimpleExpSmoothing"
   ]
  },
  {
   "cell_type": "code",
   "execution_count": 2,
   "metadata": {},
   "outputs": [],
   "source": [
    "def _fit_arima_for_row(time_series, **kwargs):\n",
    "    try:\n",
    "        order = tsa.arma_order_select_ic(time_series, ic=[\"aic\"], trend=\"nc\").aic_min_order\n",
    "        model = ARIMA(time_series, order=(order[0], 0, order[1]))\n",
    "        res = model.fit(disp=-1, method=\"css\", **kwargs)\n",
    "    except np.linalg.LinAlgError:\n",
    "        # fallback to HW model if convergence error happens\n",
    "        return _fit_holt_winters_for_row(time_series, **kwargs)\n",
    "    except ValueError:\n",
    "        return _fit_holt_winters_for_row(time_series, **kwargs)\n",
    "\n",
    "    return res, model"
   ]
  },
  {
   "cell_type": "code",
   "execution_count": 3,
   "metadata": {},
   "outputs": [],
   "source": [
    "def _fit_holt_winters_for_row(time_series, **kwargs):\n",
    "    model = ExponentialSmoothing(time_series)\n",
    "    res = model.fit(**kwargs)\n",
    "\n",
    "    return res, model"
   ]
  },
  {
   "cell_type": "code",
   "execution_count": 4,
   "metadata": {},
   "outputs": [],
   "source": [
    "time_series = np.array([1, 2, 1, 2, 1, 2, 1, 2, 1, 2]).astype(float)"
   ]
  },
  {
   "cell_type": "code",
   "execution_count": null,
   "metadata": {
    "collapsed": false
   },
   "outputs": [],
   "source": [
    "res, model = _fit_holt_winters_for_row(time_series)\n",
    "prediction = res.predict(start=len(time_series), end=len(time_series))\n",
    "prediction"
   ]
  }
 ],
 "metadata": {
  "kernelspec": {
   "display_name": "Python3 (PySpark)",
   "language": "python",
   "name": "python3"
  },
  "language_info": {
   "codemirror_mode": {
    "name": "ipython",
    "version": 3
   },
   "file_extension": ".py",
   "mimetype": "text/x-python",
   "name": "python",
   "nbconvert_exporter": "python",
   "pygments_lexer": "ipython3",
   "version": "3.6.7"
  }
 },
 "nbformat": 4,
 "nbformat_minor": 2
}
